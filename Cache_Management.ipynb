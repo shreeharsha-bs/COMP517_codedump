{
 "cells": [
  {
   "cell_type": "code",
   "execution_count": null,
   "metadata": {},
   "outputs": [],
   "source": [
    "# Shreeharsha\n",
    "# First Assignment on Cache Management\n",
    "\n",
    "cache = []\n",
    "requests = []\n",
    "try:\n",
    "    if(requests[-1]>=1 and requests<=8):\n",
    "        requests += [int(input())]\n",
    "except:\n",
    "    print(\"Please enter a positive integer between  1 and 8\")\n",
    "\n",
    "def fifo():\n",
    "    '''This function implements first in first out cache management\n",
    "    '''\n",
    "\n",
    "def lfu():\n",
    "    '''This function implements the LFU cache management\n",
    "    '''\n"
   ]
  }
 ],
 "metadata": {
  "kernelspec": {
   "display_name": "Python 3.10.6 64-bit",
   "language": "python",
   "name": "python3"
  },
  "language_info": {
   "name": "python",
   "version": "3.10.6"
  },
  "orig_nbformat": 4,
  "vscode": {
   "interpreter": {
    "hash": "fb4569285eef3a3450cb62085a5b1e0da4bce0af555edc33dcf29baf3acc1368"
   }
  }
 },
 "nbformat": 4,
 "nbformat_minor": 2
}
