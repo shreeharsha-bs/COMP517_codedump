{
 "cells": [
  {
   "cell_type": "code",
   "execution_count": 2,
   "metadata": {},
   "outputs": [
    {
     "name": "stdout",
     "output_type": "stream",
     "text": [
      "Node successfully created\n",
      "Node successfully created\n",
      "You've created a new Node. Which nodes do you want to connect it to?\n",
      "\n",
      "Here's a list of nodes available:\n",
      "\n",
      "{5: 0, 1: 1}\n",
      "Node successfully created\n",
      "You've created a new Node. Which nodes do you want to connect it to?\n",
      "\n",
      "Here's a list of nodes available:\n",
      "\n",
      "{5: 0, 1: 1, 2: 2}\n"
     ]
    },
    {
     "ename": "ValueError",
     "evalue": "invalid literal for int() with base 10: ''",
     "output_type": "error",
     "traceback": [
      "\u001b[1;31m---------------------------------------------------------------------------\u001b[0m",
      "\u001b[1;31mValueError\u001b[0m                                Traceback (most recent call last)",
      "\u001b[1;32mc:\\Users\\user\\Desktop\\Msc DS&AI\\1st Sem\\Programming Fundamentals (COMP517)\\code example dump\\Lab4.ipynb Cell 1\u001b[0m in \u001b[0;36m<cell line: 8>\u001b[1;34m()\u001b[0m\n\u001b[0;32m     <a href='vscode-notebook-cell:/c%3A/Users/user/Desktop/Msc%20DS%26AI/1st%20Sem/Programming%20Fundamentals%20%28COMP517%29/code%20example%20dump/Lab4.ipynb#X14sZmlsZQ%3D%3D?line=25'>26</a>\u001b[0m \u001b[39mprint\u001b[39m(graph)\n\u001b[0;32m     <a href='vscode-notebook-cell:/c%3A/Users/user/Desktop/Msc%20DS%26AI/1st%20Sem/Programming%20Fundamentals%20%28COMP517%29/code%20example%20dump/Lab4.ipynb#X14sZmlsZQ%3D%3D?line=26'>27</a>\u001b[0m \u001b[39mwhile\u001b[39;00m \u001b[39mTrue\u001b[39;00m:\n\u001b[1;32m---> <a href='vscode-notebook-cell:/c%3A/Users/user/Desktop/Msc%20DS%26AI/1st%20Sem/Programming%20Fundamentals%20%28COMP517%29/code%20example%20dump/Lab4.ipynb#X14sZmlsZQ%3D%3D?line=27'>28</a>\u001b[0m     connections \u001b[39m=\u001b[39m \u001b[39mint\u001b[39;49m(\u001b[39minput\u001b[39;49m(\u001b[39m\"\u001b[39;49m\u001b[39mEnter the node to connect \u001b[39;49m\u001b[39m\"\u001b[39;49m \u001b[39m+\u001b[39;49m \u001b[39mstr\u001b[39;49m(newNode) \u001b[39m+\u001b[39;49m\u001b[39m\"\u001b[39;49m\u001b[39m to. If you don\u001b[39;49m\u001b[39m'\u001b[39;49m\u001b[39mt want to connect this node to any other node, press 0\u001b[39;49m\u001b[39m\"\u001b[39;49m))\n\u001b[0;32m     <a href='vscode-notebook-cell:/c%3A/Users/user/Desktop/Msc%20DS%26AI/1st%20Sem/Programming%20Fundamentals%20%28COMP517%29/code%20example%20dump/Lab4.ipynb#X14sZmlsZQ%3D%3D?line=28'>29</a>\u001b[0m     \u001b[39mtry\u001b[39;00m:\n\u001b[0;32m     <a href='vscode-notebook-cell:/c%3A/Users/user/Desktop/Msc%20DS%26AI/1st%20Sem/Programming%20Fundamentals%20%28COMP517%29/code%20example%20dump/Lab4.ipynb#X14sZmlsZQ%3D%3D?line=29'>30</a>\u001b[0m         \u001b[39mif\u001b[39;00m(connections \u001b[39m==\u001b[39m \u001b[39m0\u001b[39m):\n",
      "\u001b[1;31mValueError\u001b[0m: invalid literal for int() with base 10: ''"
     ]
    }
   ],
   "source": [
    "# Graph generation\n",
    "import pdb\n",
    "\n",
    "graph = dict()\n",
    "id = 0\n",
    "adjacencyMatrix = [[]] # The adjacency matrix is known to be a square matrix, nested lists here\n",
    "locations = []\n",
    "while True:\n",
    "    try:\n",
    "        newNode = int(input(\"Enter a new node\\n\"))\n",
    "        edgeDefinition = False\n",
    "        if(newNode == 0):\n",
    "            break\n",
    "        elif(newNode in graph):\n",
    "            raise ValueError\n",
    "        else:\n",
    "            graph[newNode] = id \n",
    "            id += 1\n",
    "            print(\"Node successfully created\")\n",
    "            if(len(graph) > 1):\n",
    "                edgeDefinition = True\n",
    "    except ValueError:\n",
    "        print(\"Enter a new integer which will represent a new node\")\n",
    "    \n",
    "    if(edgeDefinition == True):\n",
    "        print(\"You've created a new Node. Which nodes do you want to connect it to?\\n\")\n",
    "        print(\"Here's the list of nodes:\\n\")\n",
    "        print(list(graph.keys())[:-1])\n",
    "        while True:\n",
    "            try:\n",
    "                connections = int(input(\"Enter the node to connect \" + str(newNode) +\" to. If you don't want to connect this node to any other node, press 0\\n\"))\n",
    "                if(connections == 0):\n",
    "                    break\n",
    "                elif(connections in graph):\n",
    "                    locations += [[id-1,graph[connections]]]\n",
    "                else:\n",
    "                    raise ValueError\n",
    "            except ValueError:\n",
    "                print(\"Try again, here's the node list. Press 0 if you don't want any more connections\")\n",
    "                print(list(graph.keys())[:-1])\n",
    "    \n",
    "if(len(graph) == 0):\n",
    "    adjacencyMatrix = [[1]]\n",
    "else:\n",
    "    #pdb.set_trace()\n",
    "    adjacencyMatrix = [[0]*len(graph) for x in range(len(graph))]\n",
    "    \n",
    "    for i in range(len(graph)):\n",
    "        adjacencyMatrix[i][i] = 1\n",
    "    \n",
    "    if(locations!=[[]]):\n",
    "        for loc in locations:\n",
    "            adjacencyMatrix[loc[0]][loc[1]] = 1 # The locations where the connections are made were stored when the user entered the edges\n",
    "            adjacencyMatrix[loc[1]][loc[0]] = 1 # Because the connections are two way, the matrix is symmetric\n",
    "\n",
    "print(*list(graph.keys()))\n",
    "print (\"______\")\n",
    "for line in adjacencyMatrix:\n",
    "    print(*line)"
   ]
  },
  {
   "cell_type": "code",
   "execution_count": 1,
   "metadata": {},
   "outputs": [
    {
     "name": "stdout",
     "output_type": "stream",
     "text": [
      "_____________\n",
      "[[0, 0, 0, 0, 0], [0, 0, 0, 0, 0], [0, 0, 0, 0, 0], [0, 0, 0, 0, 0], [0, 0, 0, 0, 0]]\n",
      "0\n",
      "_____________\n",
      "[[1, 0, 0, 0, 0], [1, 0, 0, 0, 0], [1, 0, 0, 0, 0], [1, 0, 0, 0, 0], [1, 0, 0, 0, 0]]\n"
     ]
    }
   ],
   "source": [
    "Y = 5\n",
    "X = [[0]*Y]*Y\n",
    "print(\"_____________\")\n",
    "print(X)\n",
    "print(X[0][0])\n",
    "X[0][0] = 1\n",
    "print(\"_____________\")\n",
    "print(X)"
   ]
  }
 ],
 "metadata": {
  "kernelspec": {
   "display_name": "Python 3.10.6 64-bit",
   "language": "python",
   "name": "python3"
  },
  "language_info": {
   "codemirror_mode": {
    "name": "ipython",
    "version": 3
   },
   "file_extension": ".py",
   "mimetype": "text/x-python",
   "name": "python",
   "nbconvert_exporter": "python",
   "pygments_lexer": "ipython3",
   "version": "3.10.6"
  },
  "orig_nbformat": 4,
  "vscode": {
   "interpreter": {
    "hash": "fb4569285eef3a3450cb62085a5b1e0da4bce0af555edc33dcf29baf3acc1368"
   }
  }
 },
 "nbformat": 4,
 "nbformat_minor": 2
}
