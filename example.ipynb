{
 "cells": [
  {
   "cell_type": "code",
   "execution_count": 1,
   "metadata": {},
   "outputs": [
    {
     "name": "stdout",
     "output_type": "stream",
     "text": [
      "Hello\n"
     ]
    }
   ],
   "source": [
    "print(\"Hello\")"
   ]
  },
  {
   "cell_type": "code",
   "execution_count": 8,
   "metadata": {},
   "outputs": [
    {
     "data": {
      "image/png": "[encoded data removed]",
      "text/plain": [
       "<Figure size 432x288 with 1 Axes>"
      ]
     },
     "metadata": {
      "needs_background": "light"
     },
     "output_type": "display_data"
    },
    {
     "data": {
      "image/png": "[encoded data removed]",
      "text/plain": [
       "<Figure size 432x288 with 1 Axes>"
      ]
     },
     "metadata": {
      "needs_background": "light"
     },
     "output_type": "display_data"
    }
   ],
   "source": [
    "import numpy as np\n",
    "import matplotlib.pyplot as plt\n",
    "\n",
    "step = 0.005\n",
    "x_axis = np.arange(-2,1.5,step)\n",
    "firstFunction = x_axis+1\n",
    "secondFunction = 2/(x_axis+1)\n",
    "plt.plot(x_axis,firstFunction,label = \"x+1\")\n",
    "plt.plot(x_axis,secondFunction, label = \"2/x+1\")\n",
    "plt.plot(x_axis,firstFunction*secondFunction, label = \"f*g\")\n",
    "plt.legend(loc=\"upper right\")\n",
    "plt.show()\n",
    "plt.figure()\n",
    "plt.plot(x_axis,x_axis**3+x_axis**2)\n",
    "plt.plot(x_axis,x_axis**3)\n",
    "plt.show()"
   ]
  },
  {
   "cell_type": "code",
   "execution_count": 4,
   "metadata": {},
   "outputs": [
    {
     "name": "stdout",
     "output_type": "stream",
     "text": [
      "567\n",
      "\n",
      "Invalid operation\n",
      "\n",
      "5-46\n",
      "\n",
      "Invalid operation\n",
      "\n",
      "5-7\n",
      "\n",
      "-2\n"
     ]
    }
   ],
   "source": [
    "#Calculator, Will stay on until you plug in the right operation\n",
    "while True:\n",
    "    inputNumber1 = int(input(\"Enter a number\\n\"))\n",
    "    operationUsed = input(\"Enter the operation you'd like to perform\\n\")\n",
    "    inputNumber2 = int(input(\"Enter the second number\\n\"))\n",
    "    print(str(inputNumber1)+operationUsed+str(inputNumber2)+'\\n')\n",
    "\n",
    "    if (operationUsed=='+'):\n",
    "        calcOutput = inputNumber1+inputNumber2\n",
    "        break\n",
    "    elif (operationUsed=='-'):\n",
    "        calcOutput = inputNumber1-inputNumber2\n",
    "        break\n",
    "    elif (operationUsed=='*'):\n",
    "        calcOutput = inputNumber1*inputNumber2\n",
    "        break\n",
    "    elif (operationUsed=='/'):\n",
    "        calcOutput = inputNumber1/inputNumber2\n",
    "        break\n",
    "    else:\n",
    "        print(\"Invalid operation\\n\")\n",
    "print(calcOutput)"
   ]
  },
  {
   "cell_type": "code",
   "execution_count": 35,
   "metadata": {},
   "outputs": [
    {
     "name": "stdout",
     "output_type": "stream",
     "text": [
      "1\n",
      "1\n",
      "2\n",
      "3\n",
      "5\n",
      "8\n",
      "13\n",
      "21\n",
      "34\n",
      "55\n",
      "89\n",
      "144\n",
      "233\n",
      "377\n",
      "610\n",
      "987\n",
      "1597\n",
      "2584\n",
      "4181\n",
      "6765\n"
     ]
    }
   ],
   "source": [
    "# Fibonacci sequence without recursion and just a loop\n",
    "F0 = 0\n",
    "F1 = 1\n",
    "terms = 20\n",
    "for terms in range(0,terms,1):\n",
    "    F1 = F0+F1\n",
    "    print(F1)\n",
    "    tempVar = F0\n",
    "    F0 = F1\n",
    "    F1 = tempVar\n"
   ]
  },
  {
   "cell_type": "code",
   "execution_count": 45,
   "metadata": {},
   "outputs": [
    {
     "name": "stdout",
     "output_type": "stream",
     "text": [
      "Error: Number < 1\n",
      "15\n"
     ]
    }
   ],
   "source": [
    "n = int(input(\"Number:\"))\n",
    "\n",
    "while (n<1):\n",
    "    print(\"Error: Number < 1\")\n",
    "    n = int(input(\"Number:\"))\n",
    "print(int(n*(n+1)/2))\n"
   ]
  },
  {
   "cell_type": "code",
   "execution_count": 4,
   "metadata": {},
   "outputs": [
    {
     "name": "stdout",
     "output_type": "stream",
     "text": [
      "Hello \n"
     ]
    }
   ],
   "source": [
    "def hello_user(name):\n",
    "    print(\"Hello {}\".format(name))\n",
    "hello_user(input(\"What is your name?\"))"
   ]
  },
  {
   "cell_type": "code",
   "execution_count": 17,
   "metadata": {},
   "outputs": [
    {
     "name": "stdout",
     "output_type": "stream",
     "text": [
      "1\n",
      "2\n",
      "3\n",
      "4\n",
      "4\n",
      "3\n",
      "2\n",
      "1\n"
     ]
    }
   ],
   "source": [
    "a = [1,2,3,4]\n",
    "b = a.copy()\n",
    "while a:\n",
    "    print(a.pop(0))\n",
    "while b:\n",
    "    print(b.pop(-1))"
   ]
  },
  {
   "cell_type": "code",
   "execution_count": 7,
   "metadata": {},
   "outputs": [
    {
     "name": "stdout",
     "output_type": "stream",
     "text": [
      "Not perfect power\n"
     ]
    }
   ],
   "source": [
    "import numpy as np\n",
    "n = 16\n",
    "if((np.log2(n)*10)%10!=0):\n",
    "    print(\"Not perfect power\")\n",
    "else:\n",
    "    print(\"A ok\")"
   ]
  },
  {
   "cell_type": "code",
   "execution_count": 1,
   "metadata": {},
   "outputs": [
    {
     "name": "stdout",
     "output_type": "stream",
     "text": [
      "A(1) = 0\n",
      "\n",
      "0.0\n",
      "A(2) = A(1) + 3/2 = 1.5\n",
      "\n",
      "1.5\n",
      "A(3) = A(2) + 3/6 = 2.0\n",
      "\n",
      "2.0\n",
      "A(4) = A(3) + 3/12 = 2.25\n",
      "\n",
      "2.25\n",
      "A(5) = A(4) + 3/20 = 2.4\n",
      "\n",
      "2.4000000000000004\n",
      "A(6) = A(5) + 3/30 = 2.5\n",
      "\n",
      "2.5\n",
      "A(7) = A(6) + 3/42 = 2.5714285714285716\n",
      "\n",
      "2.5714285714285716\n",
      "A(8) = A(7) + 3/56 = 2.625\n",
      "\n",
      "2.625\n",
      "A(9) = A(8) + 3/72 = 2.6666666666666665\n",
      "\n",
      "2.6666666666666665\n"
     ]
    }
   ],
   "source": [
    "# Simple python code computing values of the sequence defined as follows\n",
    "# A(1) = 0 and A(n) = A(n-1) + 3/(n*(n-1)) for n>1\n",
    "#\n",
    "# 1. Find and fix the two mistakes in computeValue (if you do not fix\n",
    "# them the code will give you an execution error)\n",
    "#\n",
    "# 2. Afterwards, look at the output. Does it help you in finding a\n",
    "# non-recursive definition of A(n)? Does it help you in guessing the\n",
    "# limit?\n",
    "#\n",
    "# 3*. computeValue can be simplified into a very simple\n",
    "# computation. How does this alternative version look like?\n",
    "\n",
    "\n",
    "def computeValue(N):\n",
    "    if N==1:\n",
    "        return 0\n",
    "    else:\n",
    "        return computeValue(N-1) + 3/(N*(N - 1))\n",
    "\n",
    "\n",
    "def printValue(N):\n",
    "    if N < 1 or not isinstance(N, int):\n",
    "        print(\"This sequence starts from 1 and N has to be a natural number!\\n\")\n",
    "    elif N == 1:\n",
    "        print('A(1) = 0\\n')\n",
    "    else:\n",
    "        value = computeValue(N)\n",
    "        print('A({0}) = A({1}) + 3/{2} = {3}\\n'.format(N, N-1, N*(N-1), value))\n",
    "\n",
    "def computeValue2(N):\n",
    "    print(3*(1-1/N))\n",
    "\n",
    "for i in range(1,10):\n",
    "    printValue(i)\n",
    "    computeValue2(i)"
   ]
  },
  {
   "cell_type": "code",
   "execution_count": 2,
   "metadata": {},
   "outputs": [
    {
     "name": "stdout",
     "output_type": "stream",
     "text": [
      "Hello Harsha\n",
      "What is the right answer to the first question?\n",
      "['1.first', '2.DEF', '3.GHI', '4.JKL']\n",
      "['1.first', '4.JKL']\n",
      "Let me check if you're right or wrong........\n",
      "\n",
      "Congratulations Harsha, you have successfully answered a question for £50\n",
      "What is the right answer to the second question?\n",
      "['1.ABC', '2.second', '3.GHI', '4.JKL']\n",
      "This lifeline has already been used, sorry!\n",
      " Good luck!\n",
      "\n",
      "Let me check if you're right or wrong........\n",
      "\n",
      "Congratulations Harsha, you have successfully answered a question for £100\n",
      "What is the right answer to the third question?\n",
      "['1.first', '2.DEF', '3.GHI', '4.JKL']\n",
      "This lifeline has already been used, sorry!\n",
      " Good luck!\n",
      "\n",
      "Let me check if you're right or wrong........\n",
      "\n",
      "Congratulations Harsha, you have successfully answered a question for £500\n",
      "What is the right answer to the fourth question?\n",
      "['1.AME', '2.DEF', '3.third', '4.JKL']\n",
      "Let me check if you're right or wrong........\n",
      "\n",
      "It's ok Harsha, you still have won £500, not bad at all!\n",
      "\n"
     ]
    }
   ],
   "source": [
    "# Who wants to be a millionaire? game\n",
    "import random\n",
    "# import pdb\n",
    "\n",
    "name = input(\"Please enter your name, contestant\\n\")\n",
    "print(\"Hello \"+name)\n",
    "\n",
    "questionList = [\"What is the right answer to the first question?\",\\\n",
    "\"What is the right answer to the second question?\",\\\n",
    "\"What is the right answer to the third question?\",\\\n",
    "\"What is the right answer to the fourth question?\",\\\n",
    "\"What is the right answer to the fifth question?\",\\\n",
    "\"What is the right answer to the sixth question?\"]\n",
    "\n",
    "possibleAnswerList = [[\"1.first\",\"2.DEF\",\"3.GHI\",\"4.JKL\"],\\\n",
    "[\"1.ABC\",\"2.second\",\"3.GHI\",\"4.JKL\"],\\\n",
    "[\"1.first\",\"2.DEF\",\"3.GHI\",\"4.JKL\"],\\\n",
    "[\"1.AME\",\"2.DEF\",\"3.third\",\"4.JKL\"],\\\n",
    "[\"1.CHA\",\"2.DEF\",\"3.GHI\",\"4.fourth\"],\\\n",
    "[\"1.HAR\",\"2.second\",\"3.GHI\",\"4.JKL\"]]\n",
    "\n",
    "answerList = ['1','2','1','3','4','2']\n",
    "rewardList = [50,100,500,1000,10000,100000]\n",
    "candidateReward = 0\n",
    "\n",
    "def check_answer(chosen_option, questionID, candidateReward):\n",
    "    \n",
    "    failure = 0\n",
    "    if(chosen_option == answerList[questionID]):\n",
    "        print(\"Congratulations \"+name+\", you have successfully answered a question for £\"+str(rewardList[questionID]),end=\"\\n\")\n",
    "        candidateReward = rewardList[questionID]\n",
    "    else:\n",
    "        if((questionID)%2 == 0):\n",
    "            print(\"It's ok \"+name+\", you still have won £\"+str(candidateReward)+\", not bad at all!\\n\")\n",
    "            failure = 1\n",
    "        else:\n",
    "            if(questionID==1):\n",
    "                candidateReward = 0\n",
    "            else:\n",
    "                candidateReward = rewardList[questionID-2]\n",
    "            print(\"It's ok \"+name+\", you still have won £\"+str(candidateReward)+\", not bad at all!\\n\")\n",
    "            failure = 1\n",
    "\n",
    "    return failure,candidateReward\n",
    "\n",
    "def lifeline(questionID,possibleAnswerList):\n",
    "    lifeline_used = 1\n",
    "    rightAnswer = answerList[questionID]\n",
    "    wrong = list({'1','2','3','4'} - set(rightAnswer))\n",
    "    randomWrong = random.choice(wrong)\n",
    "    #pdb.set_trace()\n",
    "    wrongDisplay = possibleAnswerList[int(randomWrong)-1]\n",
    "    newPossibleAnswersList = [possibleAnswerList[questionID],wrongDisplay]\n",
    "    return lifeline_used,newPossibleAnswersList\n",
    "\n",
    "\n",
    "lifeline_used = 0   \n",
    "for i in range(0,6):\n",
    "    print(questionList[i], end=\"\\n\")\n",
    "    print(possibleAnswerList[i], end=\"\\n\")\n",
    "    \n",
    "    chosenOption = input(\"Please enter the option number between 1 and 4 that you think corresponds to the right answer. Type in 'lifeline' if you want to use one\\n\")\n",
    "    IncorrectInput = 1\n",
    "    while(IncorrectInput):\n",
    "        #pdb.set_trace()\n",
    "        if(chosenOption == \"lifeline\" and lifeline_used == 0):\n",
    "            lifeline_used,newPossibleAnswersList = lifeline(i,possibleAnswerList[i])\n",
    "            print(newPossibleAnswersList)\n",
    "            chosenOption = input(\"Please enter the option number you think is correct\\n\")\n",
    "        elif(chosenOption == \"lifeline\" and lifeline_used == 1):\n",
    "            print(\"This lifeline has already been used, sorry!\\n Good luck!\\n\")\n",
    "            chosenOption = input(\"Please enter the option number you think is correct\\n\")\n",
    "        else:\n",
    "            if(chosenOption!='1' and chosenOption!='2' and chosenOption!='3' and chosenOption!='4' and chosenOption!='lifeline'):\n",
    "                chosenOption = input(\"Please enter the option number you think is correct, in the right format\\n\")\n",
    "            else:\n",
    "                IncorrectInput = 0\n",
    "                print(\"Let me check if you're right or wrong........\\n\")\n",
    "        \n",
    "    failure,candidateReward = check_answer(chosenOption,i,candidateReward)\n",
    "    if(failure == 1):\n",
    "        break\n",
    "    if(i==5):\n",
    "        print(\"Congratulations \"+name+\", you have won £100,000!\")\n",
    "    "
   ]
  },
  {
   "cell_type": "code",
   "execution_count": 11,
   "metadata": {},
   "outputs": [
    {
     "name": "stdout",
     "output_type": "stream",
     "text": [
      "Error, you're in (4,5), please start from there\n",
      "Error, you're in (4,5), please start from there\n",
      "Error, you're in (4,5), please start from there\n",
      "Error, you're in (4,5), please start from there\n",
      "Error, you're in (4,5), please start from there\n",
      "Error, you're in (4,5), please start from there\n"
     ]
    }
   ],
   "source": [
    "# Augment and complete the cycle'\n",
    "\n",
    "# try:\n",
    "#   something()\n",
    "# catch:\n",
    "#   something_else()\n",
    "\n",
    "# f strings: f\"Anything (variable:<>^)\" (for left, right and center align)\n",
    "# str.format()\n",
    "\n",
    "def receive_points():\n",
    "    points = []\n",
    "    while len(points)<2:\n",
    "        points+= input().split('),(')\n",
    "        points[0] += ')'\n",
    "        points[1] = '('+points[1] \n",
    "        #pdb.set_trace()\n",
    "    return points\n",
    "\n",
    "path = []\n",
    "print(\"Please input the starting point and the destination one after the other\\n\")\n",
    "print(\"Acceptable formats are (x,y),(y,z)\\n\")\n",
    "start = receive_points()\n",
    "path += start\n",
    "\n",
    "while (True):\n",
    "    check = 0\n",
    "    next = receive_points()\n",
    "    if (next[0]!=path[-1]):\n",
    "        print(\"Error, you're in \"+str(path[-1]+\" and you're trying to start from a point you haven't visited yet. \"))\n",
    "    elif (next[1]==start[0]):\n",
    "        print(\"You've reached your starting point. Here's the path you took, Bye!\")\n",
    "        for i in range(0,len(path),2):\n",
    "            print(path[i])\n",
    "        print(path[-1])\n",
    "        print(start[0])    \n",
    "        break\n",
    "    else:\n",
    "        path+=next\n",
    "    for i in range(0,len(path),2):\n",
    "        if (next[1]==path[i]):\n",
    "            print(\"Undirected paths taken!\")\n",
    "            path += next\n",
    "            check = 1\n",
    "    if (check == 0):\n",
    "            print(\"Error, you're trying to start from a point you haven't visited yet.\")"
   ]
  }
 ],
 "metadata": {
  "kernelspec": {
   "display_name": "Python 3.10.6 64-bit",
   "language": "python",
   "name": "python3"
  },
  "language_info": {
   "codemirror_mode": {
    "name": "ipython",
    "version": 3
   },
   "file_extension": ".py",
   "mimetype": "text/x-python",
   "name": "python",
   "nbconvert_exporter": "python",
   "pygments_lexer": "ipython3",
   "version": "3.10.6"
  },
  "orig_nbformat": 4,
  "vscode": {
   "interpreter": {
    "hash": "fb4569285eef3a3450cb62085a5b1e0da4bce0af555edc33dcf29baf3acc1368"
   }
  }
 },
 "nbformat": 4,
 "nbformat_minor": 2
}
